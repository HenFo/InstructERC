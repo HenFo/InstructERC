{
 "cells": [
  {
   "cell_type": "code",
   "execution_count": 2,
   "metadata": {},
   "outputs": [],
   "source": [
    "import pickle"
   ]
  },
  {
   "cell_type": "code",
   "execution_count": 3,
   "metadata": {},
   "outputs": [],
   "source": [
    "data_emoryNLP = pickle.load(open('./EmoryNLP/emorynlp_sentences.pkl','rb'))\n",
    "data_iemocap = pickle.load(open('./iemocap/iemocap.pkl','rb'))\n",
    "data_meld = pickle.load(open('./meld/meld.pkl','rb'))"
   ]
  },
  {
   "cell_type": "code",
   "execution_count": 10,
   "metadata": {},
   "outputs": [
    {
     "name": "stdout",
     "output_type": "stream",
     "text": [
      "not found\n"
     ]
    }
   ],
   "source": [
    "for v in data_emoryNLP.values():\n",
    "    for vj in v:\n",
    "        if vj == \"I hate my life. I just feel so stuck and unhappy all the time\":\n",
    "            print(\"found\")\n",
    "            break\n",
    "else:\n",
    "\tprint(\"not found\")\n",
    "            "
   ]
  },
  {
   "cell_type": "code",
   "execution_count": 11,
   "metadata": {},
   "outputs": [
    {
     "data": {
      "text/plain": [
       "['Hey, Rach. How was it with your friends? Okay! How would you like some Tiki Death Punch?',\n",
       " \"What's that?\",\n",
       " \"Weeeell, it's rum, and-\",\n",
       " 'Okay.',\n",
       " \"Ooh! Ooh! And I brought Operation! But, um, I lost the tweezers, so we can't operate. But we can prep the guy!\",\n",
       " \"Uh, Rach, it's the Visa card people.\",\n",
       " 'Oh, God, ask them what they want.',\n",
       " \"Could you please tell me what this is in reference to? Yes, hold on. Um, they say there's been some unusual activity on your account.\",\n",
       " \"But I haven't used my card in weeks!\",\n",
       " 'Uh- Rachel has left the building, can you call back?',\n",
       " \"Alright, c'mon! Let's play Twister!\"]"
      ]
     },
     "execution_count": 11,
     "metadata": {},
     "output_type": "execute_result"
    }
   ],
   "source": [
    "data_emoryNLP['1_4_5']"
   ]
  },
  {
   "cell_type": "code",
   "execution_count": 5,
   "metadata": {},
   "outputs": [],
   "source": [
    "test =  '''Speaker_0, Speaker_1, \n",
    "                       Speaker_2, Speaker_3, Speaker_4, Speaker_5, Speaker_6, Speaker_7, Speaker_8, Speaker_9, \n",
    "                       Speaker_10, Speaker_11, Speaker_12, Speaker_13, Speaker_14, Speaker_15, Speaker_16, Speaker_17,'''"
   ]
  },
  {
   "cell_type": "code",
   "execution_count": 6,
   "metadata": {},
   "outputs": [
    {
     "name": "stdout",
     "output_type": "stream",
     "text": [
      "Speaker_0, Speaker_1, \n",
      "                       Speaker_2, Speaker_3, Speaker_4, Speaker_5, Speaker_6, Speaker_7, Speaker_8, Speaker_9, \n",
      "                       Speaker_10, Speaker_11, Speaker_12, Speaker_13, Speaker_14, Speaker_15, Speaker_16, Speaker_17,\n"
     ]
    }
   ],
   "source": [
    "print(test)"
   ]
  },
  {
   "cell_type": "code",
   "execution_count": null,
   "metadata": {},
   "outputs": [],
   "source": []
  }
 ],
 "metadata": {
  "kernelspec": {
   "display_name": "chatglm2",
   "language": "python",
   "name": "python3"
  },
  "language_info": {
   "codemirror_mode": {
    "name": "ipython",
    "version": 3
   },
   "file_extension": ".py",
   "mimetype": "text/x-python",
   "name": "python",
   "nbconvert_exporter": "python",
   "pygments_lexer": "ipython3",
   "version": "3.8.18"
  },
  "orig_nbformat": 4
 },
 "nbformat": 4,
 "nbformat_minor": 2
}
